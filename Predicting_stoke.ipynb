import pandas as pd
import numpy as np
import matplotlib.pyplot as plt
# %matplotlib inline
import seaborn as sns

from google.colab import files
uploaded = files.upload()

#Read Csv file
df = pd.read_csv('healthcare-dataset-stroke-data.csv',encoding='latin-1')

df.drop(['id'],axis=1,inplace=True)

print(np.unique(df['gender']),np.unique(df['work_type']),np.unique(df['Residence_type']),np.unique(df['smoking_status']),np.unique(df['ever_married']))

df.duplicated()

#df=pd.get_dummies(df,columns=['gender','work_type','Residence_type','smoking_status'],drop_first=True)
from sklearn.preprocessing import LabelEncoder

enc = LabelEncoder()

df['gender'] = enc.fit_transform(df['gender'].values)
df['ever_married'] = enc.fit_transform(df['ever_married'].values)
df['work_type'] = enc.fit_transform(df['work_type'].values)
df['Residence_type'] = enc.fit_transform(df['Residence_type'].values)
df['smoking_status'] = enc.fit_transform(df['smoking_status'].values)

df.head()

df.info()

df.isnull().sum()

df['bmi'].mean()

df['bmi']=df['bmi'].fillna(df['bmi'].mean())

df.isnull().sum()

df['heart_disease'].value_counts()

df['stroke'].value_counts()

X=df.drop('stroke',axis=1)

y=df['stroke']

plt.hist(df['age'],color='blue')
plt.xlabel("Age")

plt.hist(df['avg_glucose_level'],color='green')
plt.xlabel("avg_glucose_level")

plt.hist(df['bmi'],color='red')
plt.xlabel("bmi")

groups = df.groupby("stroke")
for name, group in groups:
    plt.plot(group["age"], group["avg_glucose_level"], marker="o", linestyle="", label=name)
plt.legend()
plt.xlabel("Age")
plt.ylabel("Average Glucose Level")
plt.show()
groups = df.groupby("stroke")
for name, group in groups:
    plt.plot(group["age"], group["bmi"], marker="o", linestyle="", label=name)
plt.legend()
plt.xlabel("Age")
plt.ylabel("BMI")
plt.show()

sns.countplot(x='gender', data=df)
plt.title("Number of Male/Female in the dataset")

plt.show()

sns.catplot (x='stroke', col='gender', kind='count', data=df, sharey=False)
plt.show()

sns.countplot(x='hypertension', data=df)
plt.title("Number of patient having hypertension in the dataset")
plt.show()
sns.catplot (x='stroke', col='hypertension', kind='count', data=df, sharey=False)
plt.show()

sns.countplot(x='heart_disease', data=df)
plt.title("Number of patient having heart_disease in the dataset")
plt.show()
sns.catplot (x='stroke', col='heart_disease', kind='count', data=df, sharey=False)
plt.show()

sns.countplot(x='ever_married', data=df)
plt.title("Number of married before or not in the dataset")
plt.show()

sns.catplot (x='stroke', col='ever_married', kind='count', data=df, sharey=False)
plt.show()

df.groupby('work_type').size().plot(kind='pie')
sns.catplot (x='stroke', col='work_type', kind='count', data=df, sharey=False)
plt.show()

sns.countplot(x='Residence_type', data=df)
plt.title("Residence_type in the dataset")
plt.show()

sns.catplot (x='stroke', col='Residence_type', kind='count', data=df, sharey=False)
plt.show()

df.groupby('smoking_status').size().plot(kind='pie')
sns.catplot (x='stroke', col='smoking_status', kind='count', data=df, sharey=False)
plt.show()

X=df.drop('stroke',axis=1)

y=df['stroke']

print(X.shape,y.shape)

from sklearn.model_selection import train_test_split

X_train,X_test,y_train,y_test=train_test_split(X,y,test_size=0.3,random_state=22)

from sklearn.tree import DecisionTreeClassifier

dtc=DecisionTreeClassifier()

dtc.fit(X_train,y_train)

preds=dtc.predict(X_test)

from sklearn.metrics import confusion_matrix,classification_report
from sklearn.metrics import accuracy_score

confusion_matrix(preds,y_test)

print("accuracy: ",accuracy_score(y_test,preds))

print(classification_report(preds,y_test))

from sklearn.ensemble import RandomForestClassifier

rf=RandomForestClassifier(n_estimators=200,min_samples_leaf=10)

rf.fit(X_train,y_train)

preds_rf=rf.predict(X_test)
confusion_matrix(preds_rf,y_test)

print("accuracy: ",accuracy_score(y_test,preds_rf))

print(classification_report(preds,y_test))

from sklearn.datasets import make_classification

X, y = make_classification(
    n_features=6,
    n_classes=3,
    n_samples=800,
    n_informative=2,
    random_state=1,
    n_clusters_per_class=1,
)

import matplotlib.pyplot as plt

plt.scatter(X[:, 0], X[:, 1], c=y, marker="*");

X_train, X_test, y_train, y_test = train_test_split(
    X, y, test_size=0.33, random_state=125
)

from sklearn.naive_bayes import GaussianNB

# Build a Gaussian Classifier
model = GaussianNB()

# Model training
model.fit(X_train, y_train)

# Predict Output
predicted = model.predict([X_test[6]])

print("Actual Value:", y_test[6])

print("Predicted Value:", predicted[0])

from sklearn.metrics import (
    accuracy_score,
    confusion_matrix,
    ConfusionMatrixDisplay,
    f1_score,
)

y_pred = model.predict(X_test)
accuray = accuracy_score(y_pred, y_test)
f1 = f1_score(y_pred, y_test, average="weighted")

print("Accuracy:", accuray)
print("F1 Score:", f1)

from sklearn.svm import OneClassSVM
from sklearn.covariance import EllipticEnvelope

#to show outliers
sns.boxplot( y='bmi', data=df)
sns.boxplot( y='smoking_status', data=df)
sns.boxplot( y='work_type', data=df)
sns.boxplot( y='ever_married', data=df)
sns.boxplot( y='avg_glucose_level', data=df)

# calc IQR
qv1=df.bmi.quantile(0.25)
qv3=df.bmi.quantile(0.75)
IQR=qv3-qv1
data=[~((df.bmi>(qv3+1.5*IQR)) |(df.bmi<(qv1-1.5*IQR)))]
data

qv1=df.smoking_status.quantile(0.25)
qv3=df.smoking_status.quantile(0.75)
IQR=qv3-qv1
data=[~((df.smoking_status>(qv3+1.5*IQR)) |(df.smoking_status<(qv1-1.5*IQR)))]
data

qv1=df.avg_glucose_level.quantile(0.25)
qv3=df.avg_glucose_level.quantile(0.75)
IQR=qv3-qv1
data=[~((df.avg_glucose_level>(qv3+1.5*IQR)) |(df.avg_glucose_level<(qv1-1.5*IQR)))]
data

# remove outliers in "bmi"
df['bmi'].mean()
dat=df[df['bmi']<45]
sns.boxplot(y='bmi',data=dat)

# remove outliers in "avg_glucose_level"
df['avg_glucose_level'].mean()
dat=df[df['avg_glucose_level']<142]
sns.boxplot(y='avg_glucose_level',data=dat)
